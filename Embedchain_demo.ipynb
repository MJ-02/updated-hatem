{
  "cells": [
    {
      "cell_type": "markdown",
      "metadata": {
        "id": "8OnF6qsbDG1t"
      },
      "source": [
        "#Embedchain\n",
        "\n",
        "Embedchain is a framework to easily create LLM powered bots over any dataset.\n",
        "\n",
        "Here is a very simple demo about how it work!"
      ]
    },
    {
      "cell_type": "markdown",
      "metadata": {
        "id": "-VQE9nGwDaiG"
      },
      "source": [
        "First of all we install the dependencies:"
      ]
    },
    {
      "cell_type": "code",
      "execution_count": null,
      "metadata": {
        "colab": {
          "base_uri": "https://localhost:8080/"
        },
        "id": "qtqSnCgwDDCg",
        "outputId": "57bdb5ac-b568-4927-919d-a9e9630a973c"
      },
      "outputs": [],
      "source": [
        "# !pip install --upgrade embedchain"
      ]
    },
    {
      "cell_type": "markdown",
      "metadata": {
        "id": "DrrlU4QqDmxl"
      },
      "source": [
        "Now we import the dependencies:"
      ]
    },
    {
      "cell_type": "code",
      "execution_count": 1,
      "metadata": {
        "id": "ohPMkz4zDqxz"
      },
      "outputs": [],
      "source": [
        "import os\n",
        "\n",
        "from embedchain import App"
      ]
    },
    {
      "cell_type": "markdown",
      "metadata": {
        "id": "JAO_SzlyDr5x"
      },
      "source": [
        "We instanciate the embechain bot. Remember to change the API key with you OpenAI api key."
      ]
    },
    {
      "cell_type": "code",
      "execution_count": 2,
      "metadata": {
        "id": "nyRo07nqD08l"
      },
      "outputs": [],
      "source": [
        "os.environ[\"OPENAI_\"\n",
        "\n",
        "elon_bot = App()"
      ]
    },
    {
      "cell_type": "markdown",
      "metadata": {
        "id": "WRKWFWSGD1tB"
      },
      "source": [
        "Now, add different data sources using embedchain's `.add()` method:"
      ]
    },
    {
      "cell_type": "code",
      "execution_count": 7,
      "metadata": {
        "colab": {
          "base_uri": "https://localhost:8080/"
        },
        "id": "MhByl8oxEJFH",
        "outputId": "9dca4d45-7254-4b2d-dce5-10ac26c30eb9"
      },
      "outputs": [
        {
          "name": "stderr",
          "output_type": "stream",
          "text": [
            "2023-08-31 23:09:27,226 [root] [WARNING] Starting from version v0.0.40, Embedchain can automatically detect the data type. So, in the `add` method, the argument order has changed. You no longer need to specify 'pdf_file' for the `source` argument. So the code snippet will be `.add(\"C:\\Users\\majal\\Desktop\\CrownPrinceComp\\App in development\\example pdfs\\العلوم الحياتية - الصف الثاني عشر العلمي (1).pdf\", \"pdf_file\")`\n",
            "2023-08-31 23:09:27,226 [root] [WARNING] Embedchain is swapping the arguments for you. This functionality might be deprecated in the future, so please adjust your code.\n"
          ]
        },
        {
          "name": "stdout",
          "output_type": "stream",
          "text": [
            "Successfully saved C:\\Users\\majal\\Desktop\\CrownPrinceComp\\App in development\\example pdfs\\العلوم الحياتية - الصف الثاني عشر العلمي (1).pdf (DataType.PDF_FILE). New chunks count: 173\n"
          ]
        },
        {
          "data": {
            "text/plain": [
              "'c1f54b6025007d2aa45ae71dc50c2e0b'"
            ]
          },
          "execution_count": 7,
          "metadata": {},
          "output_type": "execute_result"
        }
      ],
      "source": [
        "# elon_bot.add(\"web_page\", \"https://en.wikipedia.org/wiki/Elon_Musk\")\n",
        "# elon_bot.add(\"web_page\", \"https://tesla.com/elon-musk\")\n",
        "# elon_bot.add(\"youtube_video\", \"https://www.youtube.com/watch?v=MxZpaJK74Y4\")\n",
        "elon_bot.add(\"pdf_file\",r\"C:\\Users\\majal\\Desktop\\CrownPrinceComp\\App in development\\example pdfs\\العلوم الحياتية - الصف الثاني عشر العلمي (1).pdf\")"
      ]
    },
    {
      "cell_type": "markdown",
      "metadata": {
        "id": "aeTOQettEfWT"
      },
      "source": [
        "Your bot is ready now. Ask your bot any questions using `.query()` method:"
      ]
    },
    {
      "cell_type": "code",
      "execution_count": 19,
      "metadata": {
        "colab": {
          "base_uri": "https://localhost:8080/",
          "height": 53
        },
        "id": "HZnx0V18EkzS",
        "outputId": "f0c283f0-5e9d-4c47-d5fe-f0f57f34a195"
      },
      "outputs": [
        {
          "name": "stdout",
          "output_type": "stream",
          "text": [
            "Renin, angiotensin, and aldosterone are all involved in the regulation of blood pressure and fluid balance in the body. Renin is an enzyme that is released by the kidneys in response to low blood pressure or low blood volume. It acts on angiotensinogen, a protein produced by the liver, to convert it into angiotensin I. Angiotensin I is then converted into angiotensin II by the enzyme angiotensin-converting enzyme (ACE), which is mainly found in the lungs. Angiotensin II is a potent vasoconstrictor, meaning it causes blood vessels to narrow, which increases blood pressure. It also stimulates the release of aldosterone from the adrenal glands. Aldosterone acts on the kidneys to increase the reabsorption of sodium and water, which helps to increase blood volume and further raise blood pressure. Overall, the renin-angiotensin-aldosterone system plays a crucial role in maintaining blood pressure and fluid balance in the body.\n"
          ]
        }
      ],
      "source": [
        "print(elon_bot.query(\"what does renin angiotesin aldosterone do?\"))"
      ]
    },
    {
      "cell_type": "code",
      "execution_count": null,
      "metadata": {},
      "outputs": [],
      "source": []
    },
    {
      "cell_type": "code",
      "execution_count": null,
      "metadata": {},
      "outputs": [],
      "source": []
    }
  ],
  "metadata": {
    "colab": {
      "provenance": []
    },
    "kernelspec": {
      "display_name": "Python 3",
      "name": "python3"
    },
    "language_info": {
      "codemirror_mode": {
        "name": "ipython",
        "version": 3
      },
      "file_extension": ".py",
      "mimetype": "text/x-python",
      "name": "python",
      "nbconvert_exporter": "python",
      "pygments_lexer": "ipython3",
      "version": "3.11.4"
    }
  },
  "nbformat": 4,
  "nbformat_minor": 0
}
